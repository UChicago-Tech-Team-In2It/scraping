{
 "cells": [
  {
   "cell_type": "code",
   "execution_count": 6,
   "metadata": {},
   "outputs": [],
   "source": [
    "import numpy as np\n",
    "from conceptnet5.vectors.query import VectorSpaceWrapper\n",
    "\n",
    "PATH_TO_VECTORS = 'mini.h5' # wherever you stored mini.h5 \n",
    "LANG = 'en' \n",
    "wrapper = VectorSpaceWrapper(vector_filename=PATH_TO_VECTORS)"
   ]
  },
  {
   "cell_type": "code",
   "execution_count": null,
   "metadata": {},
   "outputs": [],
   "source": [
    "csv = read.cs"
   ]
  },
  {
   "cell_type": "code",
   "execution_count": null,
   "metadata": {},
   "outputs": [],
   "source": [
    "##Need to remove text punctuation \n",
    "mean = lambda x: sum(x)/len(x)\n",
    "def sentence_to_vector(sent, wrapper):\n",
    "    words = sent.split(\" \")\n",
    "    vecs = [wrapper.text_to_vector('en', word) for word in words] \n",
    "    return mean(vecs)"
   ]
  },
  {
   "cell_type": "code",
   "execution_count": null,
   "metadata": {},
   "outputs": [],
   "source": []
  }
 ],
 "metadata": {
  "kernelspec": {
   "display_name": "Python 3",
   "language": "python",
   "name": "python3"
  },
  "language_info": {
   "codemirror_mode": {
    "name": "ipython",
    "version": 3
   },
   "file_extension": ".py",
   "mimetype": "text/x-python",
   "name": "python",
   "nbconvert_exporter": "python",
   "pygments_lexer": "ipython3",
   "version": "3.6.5"
  }
 },
 "nbformat": 4,
 "nbformat_minor": 2
}
