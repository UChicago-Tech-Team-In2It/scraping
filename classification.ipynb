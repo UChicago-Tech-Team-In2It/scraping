{
 "cells": [
  {
   "cell_type": "code",
   "execution_count": 12,
   "metadata": {},
   "outputs": [],
   "source": [
    "import numpy as np\n",
    "import pandas as pd\n",
    "from conceptnet5.vectors.query import VectorSpaceWrapper\n",
    "from sklearn.model_selection import train_test_split\n",
    "from sklearn.naive_bayes import BernoulliNB\n",
    "\n",
    "PATH_TO_VECTORS = 'mini.h5' # wherever you stored mini.h5 \n",
    "LANG = 'en' \n",
    "wrapper = VectorSpaceWrapper(vector_filename=PATH_TO_VECTORS)"
   ]
  },
  {
   "cell_type": "code",
   "execution_count": 9,
   "metadata": {},
   "outputs": [],
   "source": [
    "csv = pd.read_csv(\"combined_csv.csv\")"
   ]
  },
  {
   "cell_type": "code",
   "execution_count": null,
   "metadata": {},
   "outputs": [],
   "source": [
    "##Need to remove text punctuation \n",
    "mean = lambda x: sum(x)/len(x)\n",
    "punct = [\".\", \",\", \"?\", \"!\", \")\", \"(\", \":\", \";\"]\n",
    "def sentence_to_vector(sent, wrapper):\n",
    "    words = sent.split(\" \").strip(punct).lower()\n",
    "    vecs = [wrapper.text_to_vector('en', word) for word in words] \n",
    "    return mean(vecs)"
   ]
  },
  {
   "cell_type": "code",
   "execution_count": 18,
   "metadata": {},
   "outputs": [
    {
     "name": "stdout",
     "output_type": "stream",
     "text": [
      "Index(['Unnamed: 0', 'title', 'org', 'desc'], dtype='object')\n"
     ]
    }
   ],
   "source": [
    "print(csv.columns)\n",
    "train, test = train_test_split(csv, test_size=0.2)"
   ]
  },
  {
   "cell_type": "code",
   "execution_count": null,
   "metadata": {},
   "outputs": [],
   "source": []
  },
  {
   "cell_type": "code",
   "execution_count": null,
   "metadata": {},
   "outputs": [],
   "source": [
    "clf = BernoulliNB()\n",
    "clf.fit(X, Y)\n",
    "BernoulliNB(alpha=1.0, binarize=0.0, class_prior=None, fit_prior=True)\n",
    "print(clf.predict(X[2:3]))"
   ]
  }
 ],
 "metadata": {
  "kernelspec": {
   "display_name": "Python 3",
   "language": "python",
   "name": "python3"
  },
  "language_info": {
   "codemirror_mode": {
    "name": "ipython",
    "version": 3
   },
   "file_extension": ".py",
   "mimetype": "text/x-python",
   "name": "python",
   "nbconvert_exporter": "python",
   "pygments_lexer": "ipython3",
   "version": "3.6.5"
  }
 },
 "nbformat": 4,
 "nbformat_minor": 2
}
